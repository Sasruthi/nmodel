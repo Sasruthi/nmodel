{
  "nbformat": 4,
  "nbformat_minor": 0,
  "metadata": {
    "colab": {
      "provenance": []
    },
    "kernelspec": {
      "name": "python3",
      "display_name": "Python 3"
    },
    "language_info": {
      "name": "python"
    },
    "accelerator": "GPU",
    "gpuClass": "standard"
  },
  "cells": [
    {
      "cell_type": "code",
      "execution_count": null,
      "metadata": {
        "id": "NYaXSGHvsKoX"
      },
      "outputs": [],
      "source": [
        "import tensorflow\n",
        "import numpy as np\n",
        "import os\n",
        "import cv2\n",
        "from tensorflow.keras.preprocessing.image import ImageDataGenerator\n",
        "from tensorflow.keras. preprocessing import image\n",
        "from tensorflow.keras.optimizers import RMSprop\n",
        "from tensorflow.keras.models import Sequential\n",
        "from tensorflow.keras import datasets, layers, models\n",
        "from keras.layers import Dense, Conv2D, MaxPool2D , Flatten,Dropout, BatchNormalization"
      ]
    },
    {
      "cell_type": "code",
      "source": [
        "!unzip \"/content/drive/MyDrive/Colab Notebooks/dl training/data.zip\" -d new_data"
      ],
      "metadata": {
        "colab": {
          "base_uri": "https://localhost:8080/"
        },
        "id": "ipAdydLjuCXS",
        "outputId": "e9435935-6a62-4b78-9a04-d1e27217d23c"
      },
      "execution_count": null,
      "outputs": [
        {
          "output_type": "stream",
          "name": "stdout",
          "text": [
            "Archive:  /content/drive/MyDrive/Colab Notebooks/dl training/data.zip\n",
            "replace new_data/train/Signed/1 (1).png? [y]es, [n]o, [A]ll, [N]one, [r]ename: N\n",
            "N\n"
          ]
        }
      ]
    },
    {
      "cell_type": "code",
      "source": [
        "signed_train=os.path.join(\"/content/new_data/train/Signed\")\n",
        "unsigned_train=os.path.join(\"/content/new_data/train/Unsigned\")\n",
        "signed_val=os.path.join(\"/content/new_data/val/Signed\")\n",
        "unsigned_val=os.path.join(\"/content/new_data/val/Unsigned\")"
      ],
      "metadata": {
        "id": "XK57n2Z5utus"
      },
      "execution_count": null,
      "outputs": []
    },
    {
      "cell_type": "code",
      "source": [
        "print(\"Signed training data count: \",len(os.listdir(signed_train)))\n",
        "print(\"UnSigned training data count: \",len(os.listdir(unsigned_train)))"
      ],
      "metadata": {
        "colab": {
          "base_uri": "https://localhost:8080/"
        },
        "id": "Mje8CPBZ0jnB",
        "outputId": "48e7067d-1e58-4698-bc97-832ec2438502"
      },
      "execution_count": null,
      "outputs": [
        {
          "output_type": "stream",
          "name": "stdout",
          "text": [
            "Signed training data count:  23489\n",
            "UnSigned training data count:  23489\n"
          ]
        }
      ]
    },
    {
      "cell_type": "code",
      "source": [
        "print(\"Signed validation data count: \",len(os.listdir(signed_val)))\n",
        "print(\"UnSigned validation data count: \",len(os.listdir(unsigned_val)))"
      ],
      "metadata": {
        "colab": {
          "base_uri": "https://localhost:8080/"
        },
        "id": "2RW9PFon00rB",
        "outputId": "810f23f4-d82f-4331-9cd3-78bff78dc420"
      },
      "execution_count": null,
      "outputs": [
        {
          "output_type": "stream",
          "name": "stdout",
          "text": [
            "Signed validation data count:  1000\n",
            "UnSigned validation data count:  1000\n"
          ]
        }
      ]
    },
    {
      "cell_type": "code",
      "source": [
        "rescaled_train=ImageDataGenerator(rescale=1/255,validation_split=0.2)\n",
        "rescaled_validate=ImageDataGenerator(rescale=1/255)"
      ],
      "metadata": {
        "id": "5ylBc0Pt0_Zd"
      },
      "execution_count": null,
      "outputs": []
    },
    {
      "cell_type": "code",
      "source": [
        "train_gen=rescaled_train.flow_from_directory(\"/content/new_data/train\",\n",
        "                                             classes=['Signed','Unsigned'],\n",
        "                                             target_size=(256,256),\n",
        "                                             batch_size=65,\n",
        "                                             class_mode='binary',\n",
        "                                             shuffle=True)"
      ],
      "metadata": {
        "colab": {
          "base_uri": "https://localhost:8080/"
        },
        "id": "oD5wLtdv1JOU",
        "outputId": "5770be48-6dff-46b5-82e3-11833db8876c"
      },
      "execution_count": null,
      "outputs": [
        {
          "output_type": "stream",
          "name": "stdout",
          "text": [
            "Found 46978 images belonging to 2 classes.\n"
          ]
        }
      ]
    },
    {
      "cell_type": "code",
      "source": [
        "validate_gen=rescaled_validate.flow_from_directory(\"/content/new_data/val\",\n",
        "                                                   classes=['Signed','Unsigned'],\n",
        "                                                   target_size=(256,256),\n",
        "                                                   batch_size=15,\n",
        "                                                   class_mode='binary',\n",
        "                                                   shuffle=True)"
      ],
      "metadata": {
        "colab": {
          "base_uri": "https://localhost:8080/"
        },
        "id": "tKX-kFVO1JhP",
        "outputId": "20994fa7-f4ac-4946-af7e-82bf83371202"
      },
      "execution_count": null,
      "outputs": [
        {
          "output_type": "stream",
          "name": "stdout",
          "text": [
            "Found 2000 images belonging to 2 classes.\n"
          ]
        }
      ]
    },
    {
      "cell_type": "code",
      "source": [
        "model=Sequential()\n",
        "model.add(Conv2D(input_shape=(256,256,3),filters=32,kernel_size=(3,3),padding=\"same\",activation=\"relu\"))\n",
        "\n",
        "\n",
        "model.add(Conv2D(filters=64,kernel_size=(3,3),padding=\"same\",activation=\"relu\"))\n",
        "\n",
        "model.add(MaxPool2D(pool_size=(2,2),strides=(2,2)))\n",
        "model.add(Conv2D(filters=32,kernel_size=(3,3),padding=\"same\",activation=\"relu\"))\n",
        "\n",
        "model.add(MaxPool2D(pool_size=(2,2),strides=(2,2)))\n",
        "\n",
        "\n",
        "model.add(Conv2D(filters=128,kernel_size=(3,3),padding=\"same\",activation=\"relu\"))\n",
        "model.add(MaxPool2D(pool_size=(2,2),strides=(2,2)))\n",
        "\n",
        "\n",
        "model.add(Conv2D(filters=256,kernel_size=(3,3),padding=\"same\",activation=\"relu\"))\n",
        "model.add(MaxPool2D(pool_size=(2,2),strides=(2,2)))\n",
        "model.add(Conv2D(filters=256,kernel_size=(3,3),padding=\"same\",activation=\"relu\"))\n",
        "model.add(MaxPool2D(pool_size=(2,2),strides=(2,2)))\n",
        "\n",
        "model.add(Conv2D(filters=64,kernel_size=(3,3),padding=\"same\",activation=\"relu\"))\n",
        "\n",
        "model.add(Conv2D(filters=512,kernel_size=(3,3),padding=\"same\",activation=\"relu\"))\n",
        "model.add(MaxPool2D(pool_size=(2,2),strides=(2,2)))\n",
        "\n",
        "\n",
        "\n",
        "\n",
        "\n",
        "model.add(Flatten())\n",
        "\n",
        "model.add(Dense(units=256,activation=\"relu\"))\n",
        "model.add(Dense(units=1,activation=\"sigmoid\"))\n"
      ],
      "metadata": {
        "id": "Br3D4_ny3hYL"
      },
      "execution_count": null,
      "outputs": []
    },
    {
      "cell_type": "code",
      "source": [
        "model.summary()"
      ],
      "metadata": {
        "colab": {
          "base_uri": "https://localhost:8080/"
        },
        "id": "eb1Mdb-K4JpB",
        "outputId": "03e80b4c-a4de-4598-a581-26b3c5b4a2dc"
      },
      "execution_count": null,
      "outputs": [
        {
          "output_type": "stream",
          "name": "stdout",
          "text": [
            "Model: \"sequential_1\"\n",
            "_________________________________________________________________\n",
            " Layer (type)                Output Shape              Param #   \n",
            "=================================================================\n",
            " conv2d_8 (Conv2D)           (None, 256, 256, 32)      896       \n",
            "                                                                 \n",
            " conv2d_9 (Conv2D)           (None, 256, 256, 64)      18496     \n",
            "                                                                 \n",
            " max_pooling2d_6 (MaxPooling  (None, 128, 128, 64)     0         \n",
            " 2D)                                                             \n",
            "                                                                 \n",
            " conv2d_10 (Conv2D)          (None, 128, 128, 32)      18464     \n",
            "                                                                 \n",
            " max_pooling2d_7 (MaxPooling  (None, 64, 64, 32)       0         \n",
            " 2D)                                                             \n",
            "                                                                 \n",
            " conv2d_11 (Conv2D)          (None, 64, 64, 128)       36992     \n",
            "                                                                 \n",
            " max_pooling2d_8 (MaxPooling  (None, 32, 32, 128)      0         \n",
            " 2D)                                                             \n",
            "                                                                 \n",
            " conv2d_12 (Conv2D)          (None, 32, 32, 256)       295168    \n",
            "                                                                 \n",
            " max_pooling2d_9 (MaxPooling  (None, 16, 16, 256)      0         \n",
            " 2D)                                                             \n",
            "                                                                 \n",
            " conv2d_13 (Conv2D)          (None, 16, 16, 256)       590080    \n",
            "                                                                 \n",
            " max_pooling2d_10 (MaxPoolin  (None, 8, 8, 256)        0         \n",
            " g2D)                                                            \n",
            "                                                                 \n",
            " conv2d_14 (Conv2D)          (None, 8, 8, 64)          147520    \n",
            "                                                                 \n",
            " conv2d_15 (Conv2D)          (None, 8, 8, 512)         295424    \n",
            "                                                                 \n",
            " max_pooling2d_11 (MaxPoolin  (None, 4, 4, 512)        0         \n",
            " g2D)                                                            \n",
            "                                                                 \n",
            " flatten_1 (Flatten)         (None, 8192)              0         \n",
            "                                                                 \n",
            " dense_2 (Dense)             (None, 256)               2097408   \n",
            "                                                                 \n",
            " dense_3 (Dense)             (None, 1)                 257       \n",
            "                                                                 \n",
            "=================================================================\n",
            "Total params: 3,500,705\n",
            "Trainable params: 3,500,705\n",
            "Non-trainable params: 0\n",
            "_________________________________________________________________\n"
          ]
        }
      ]
    },
    {
      "cell_type": "code",
      "source": [
        "model.compile(optimizer=tensorflow.optimizers.Adam(),loss='binary_crossentropy',metrics=['accuracy'])\n"
      ],
      "metadata": {
        "id": "-Z0DC2fS4JrG"
      },
      "execution_count": null,
      "outputs": []
    },
    {
      "cell_type": "code",
      "source": [
        "tmodel = model.fit(train_gen,epochs=20,verbose=2,steps_per_epoch=10,\n",
        "                   validation_data=validate_gen)"
      ],
      "metadata": {
        "colab": {
          "base_uri": "https://localhost:8080/"
        },
        "id": "5uYR3RAi4JvI",
        "outputId": "c89bf38a-830e-4c4f-d82e-73ac6f394103"
      },
      "execution_count": null,
      "outputs": [
        {
          "output_type": "stream",
          "name": "stdout",
          "text": [
            "Epoch 1/20\n",
            "10/10 - 10s - loss: 0.6922 - accuracy: 0.5785 - val_loss: 0.6852 - val_accuracy: 0.8465 - 10s/epoch - 958ms/step\n",
            "Epoch 2/20\n",
            "10/10 - 9s - loss: 0.6066 - accuracy: 0.7231 - val_loss: 0.4707 - val_accuracy: 0.8110 - 9s/epoch - 912ms/step\n",
            "Epoch 3/20\n",
            "10/10 - 9s - loss: 0.5537 - accuracy: 0.7523 - val_loss: 0.4096 - val_accuracy: 0.8810 - 9s/epoch - 854ms/step\n",
            "Epoch 4/20\n",
            "10/10 - 9s - loss: 0.4815 - accuracy: 0.7600 - val_loss: 0.4728 - val_accuracy: 0.7470 - 9s/epoch - 941ms/step\n",
            "Epoch 5/20\n",
            "10/10 - 9s - loss: 0.4467 - accuracy: 0.8154 - val_loss: 0.5031 - val_accuracy: 0.7545 - 9s/epoch - 856ms/step\n",
            "Epoch 6/20\n",
            "10/10 - 9s - loss: 0.4314 - accuracy: 0.8200 - val_loss: 0.4465 - val_accuracy: 0.7960 - 9s/epoch - 856ms/step\n",
            "Epoch 7/20\n",
            "10/10 - 9s - loss: 0.4056 - accuracy: 0.8262 - val_loss: 0.4569 - val_accuracy: 0.8255 - 9s/epoch - 865ms/step\n",
            "Epoch 8/20\n",
            "10/10 - 12s - loss: 0.4440 - accuracy: 0.8009 - val_loss: 0.5646 - val_accuracy: 0.7890 - 12s/epoch - 1s/step\n",
            "Epoch 9/20\n",
            "10/10 - 9s - loss: 0.3794 - accuracy: 0.8492 - val_loss: 0.6367 - val_accuracy: 0.8050 - 9s/epoch - 873ms/step\n",
            "Epoch 10/20\n",
            "10/10 - 11s - loss: 0.4293 - accuracy: 0.8400 - val_loss: 0.4887 - val_accuracy: 0.7865 - 11s/epoch - 1s/step\n",
            "Epoch 11/20\n",
            "10/10 - 9s - loss: 0.4072 - accuracy: 0.8415 - val_loss: 0.4081 - val_accuracy: 0.8325 - 9s/epoch - 893ms/step\n",
            "Epoch 12/20\n",
            "10/10 - 10s - loss: 0.3778 - accuracy: 0.8523 - val_loss: 0.4507 - val_accuracy: 0.8065 - 10s/epoch - 956ms/step\n",
            "Epoch 13/20\n",
            "10/10 - 12s - loss: 0.3329 - accuracy: 0.8708 - val_loss: 0.4779 - val_accuracy: 0.8155 - 12s/epoch - 1s/step\n",
            "Epoch 14/20\n",
            "10/10 - 10s - loss: 0.3845 - accuracy: 0.8277 - val_loss: 0.3821 - val_accuracy: 0.8400 - 10s/epoch - 986ms/step\n",
            "Epoch 15/20\n",
            "10/10 - 9s - loss: 0.3311 - accuracy: 0.8754 - val_loss: 0.3879 - val_accuracy: 0.8515 - 9s/epoch - 868ms/step\n",
            "Epoch 16/20\n",
            "10/10 - 9s - loss: 0.3903 - accuracy: 0.8538 - val_loss: 0.4242 - val_accuracy: 0.8445 - 9s/epoch - 894ms/step\n",
            "Epoch 17/20\n",
            "10/10 - 9s - loss: 0.3560 - accuracy: 0.8477 - val_loss: 0.3942 - val_accuracy: 0.8340 - 9s/epoch - 868ms/step\n",
            "Epoch 18/20\n",
            "10/10 - 9s - loss: 0.3562 - accuracy: 0.8523 - val_loss: 0.4101 - val_accuracy: 0.8305 - 9s/epoch - 878ms/step\n",
            "Epoch 19/20\n",
            "10/10 - 9s - loss: 0.4079 - accuracy: 0.8385 - val_loss: 0.4342 - val_accuracy: 0.8395 - 9s/epoch - 886ms/step\n",
            "Epoch 20/20\n",
            "10/10 - 9s - loss: 0.3203 - accuracy: 0.8769 - val_loss: 0.3523 - val_accuracy: 0.8585 - 9s/epoch - 879ms/step\n"
          ]
        }
      ]
    },
    {
      "cell_type": "code",
      "source": [
        "!unzip -q \"/content/drive/MyDrive/Colab Notebooks/dl training/inference.zip\" -d inference"
      ],
      "metadata": {
        "colab": {
          "base_uri": "https://localhost:8080/"
        },
        "id": "VImOgxvX4fh5",
        "outputId": "11b63ba4-7009-4fba-f3f6-f347f923a522"
      },
      "execution_count": null,
      "outputs": [
        {
          "output_type": "stream",
          "name": "stdout",
          "text": [
            "replace inference/Signed/1 (1).png? [y]es, [n]o, [A]ll, [N]one, [r]ename: N\n"
          ]
        }
      ]
    },
    {
      "cell_type": "code",
      "source": [
        "validate=rescaled_validate.flow_from_directory(\"/content/inference\",\n",
        "                                          classes=['Signed','Unsigned'],target_size=(256,256),batch_size=15,class_mode=\"binary\",shuffle=True)"
      ],
      "metadata": {
        "colab": {
          "base_uri": "https://localhost:8080/"
        },
        "id": "V_XfywB7lMVr",
        "outputId": "7f487782-6718-49f0-d064-07080af2d6ac"
      },
      "execution_count": null,
      "outputs": [
        {
          "output_type": "stream",
          "name": "stdout",
          "text": [
            "Found 6000 images belonging to 2 classes.\n"
          ]
        }
      ]
    },
    {
      "cell_type": "code",
      "source": [
        "model.evaluate(validate)"
      ],
      "metadata": {
        "colab": {
          "base_uri": "https://localhost:8080/"
        },
        "id": "a94L7GlOnxPa",
        "outputId": "afa5f68f-0faa-4c96-b755-dc905534bebd"
      },
      "execution_count": null,
      "outputs": [
        {
          "output_type": "stream",
          "name": "stdout",
          "text": [
            "400/400 [==============================] - 16s 40ms/step - loss: 0.1485 - accuracy: 0.9482\n"
          ]
        },
        {
          "output_type": "execute_result",
          "data": {
            "text/plain": [
              "[0.14845474064350128, 0.9481666684150696]"
            ]
          },
          "metadata": {},
          "execution_count": 42
        }
      ]
    },
    {
      "cell_type": "code",
      "source": [
        "img = cv2.imread(\"/content/new_data/train/Signed/1 (1).png\")\n",
        "res = img.astype(np.uint8)\n",
        "\n",
        "#--- find percentage difference based on number of pixels that are not zero ---\n",
        "percentage = (np.count_nonzero(res) * 100)/ res.size\n",
        "print(percentage)"
      ],
      "metadata": {
        "colab": {
          "base_uri": "https://localhost:8080/"
        },
        "id": "ZKbFPxECn00A",
        "outputId": "3284aa78-02ad-4001-cec4-e1cf548fbbb1"
      },
      "execution_count": null,
      "outputs": [
        {
          "output_type": "stream",
          "name": "stdout",
          "text": [
            "81.56280517578125\n"
          ]
        }
      ]
    },
    {
      "cell_type": "code",
      "source": [],
      "metadata": {
        "id": "-A4IfXnx77Ff"
      },
      "execution_count": null,
      "outputs": []
    },
    {
      "cell_type": "code",
      "source": [
        "#img=cv2.imread(\"/content/new_data/train/Unsigned/10 (100).png\")\n",
        "img=cv2.imread(\"/content/new_data/train/Unsigned/10 (357).png\")\n",
        "res = img.astype(np.uint8)\n",
        "\n",
        "#--- find percentage difference based on number of pixels that are not zero ---\n",
        "percentage = (np.count_nonzero(res) * 100)/ res.size\n",
        "print(percentage)"
      ],
      "metadata": {
        "colab": {
          "base_uri": "https://localhost:8080/"
        },
        "id": "wKPe7f0ctDKs",
        "outputId": "bf821bdc-a272-4577-cbb0-eedbaef91586"
      },
      "execution_count": null,
      "outputs": [
        {
          "output_type": "stream",
          "name": "stdout",
          "text": [
            "0.0\n"
          ]
        }
      ]
    },
    {
      "cell_type": "code",
      "source": [
        "sign = []\n",
        "\n",
        "for i in os.listdir(\"/content/new_data/train/Signed\"):\n",
        "  img  = cv2.imread(os.path.join(\"/content/new_data/train/Signed\",i))\n",
        "  res = img.astype(np.uint8)\n",
        "\n",
        "\n",
        "  percent = (np.count_nonzero(res)*100)/res.size\n",
        "  sign.append(percent)"
      ],
      "metadata": {
        "id": "E0415YpSxMFu"
      },
      "execution_count": null,
      "outputs": []
    },
    {
      "cell_type": "code",
      "source": [
        "percent"
      ],
      "metadata": {
        "id": "Z1pUvguGwREK",
        "colab": {
          "base_uri": "https://localhost:8080/"
        },
        "outputId": "c3d78786-43c9-4236-b3c0-173bed031560"
      },
      "execution_count": null,
      "outputs": [
        {
          "output_type": "execute_result",
          "data": {
            "text/plain": [
              "37.0025634765625"
            ]
          },
          "metadata": {},
          "execution_count": 48
        }
      ]
    },
    {
      "cell_type": "code",
      "source": [
        "sign = []\n",
        "\n",
        "for i in os.listdir(\"/content/new_data/train/Unsigned\"):\n",
        "  img  = cv2.imread(os.path.join(\"/content/new_data/train/Unsigned\",i))\n",
        "  res = img.astype(np.uint8)\n",
        "\n",
        "\n",
        "  percent = (np.count_nonzero(res)*100)/res.size\n",
        "  sign.append(percent)"
      ],
      "metadata": {
        "id": "GEcgJodzydXd"
      },
      "execution_count": null,
      "outputs": []
    },
    {
      "cell_type": "code",
      "source": [
        "percent"
      ],
      "metadata": {
        "colab": {
          "base_uri": "https://localhost:8080/"
        },
        "id": "dP8d6OnczEyC",
        "outputId": "541749ba-7a8c-4e6a-ea82-5f671220b5a9"
      },
      "execution_count": null,
      "outputs": [
        {
          "output_type": "execute_result",
          "data": {
            "text/plain": [
              "76.73492431640625"
            ]
          },
          "metadata": {},
          "execution_count": 50
        }
      ]
    },
    {
      "cell_type": "code",
      "source": [
        "\n",
        "avg=0\n",
        "tot_avg = 0\n",
        "\n",
        "dir='/content/new_data/train/Signed'\n",
        "temp = os.listdir(dir)\n",
        "for i in os.listdir(\"/content/new_data/train/Signed\"):\n",
        "  img  = cv2.imread(os.path.join(\"/content/new_data/train/Signed\",i))\n",
        "  res = img.astype(np.uint8)\n",
        "\n",
        "\n",
        "  percent = (np.count_nonzero(res)*100)/res.size\n",
        "  avg = avg+percent\n",
        "tot_avg = avg/len(temp)\n",
        "print(tot_avg)"
      ],
      "metadata": {
        "colab": {
          "base_uri": "https://localhost:8080/"
        },
        "id": "WyvLUIQU78L_",
        "outputId": "5b6ccec2-5a29-48f0-828c-fa50d0d9869e"
      },
      "execution_count": null,
      "outputs": [
        {
          "output_type": "stream",
          "name": "stdout",
          "text": [
            "59.2093677179802\n"
          ]
        }
      ]
    },
    {
      "cell_type": "code",
      "source": [
        "model.save(\"/content/drive/MyDrive/Colab Notebooks/dl training/tmodel.h5\")"
      ],
      "metadata": {
        "id": "7ohqPRD49hpo"
      },
      "execution_count": null,
      "outputs": []
    },
    {
      "cell_type": "code",
      "source": [
        "\n",
        "avg=0\n",
        "tot_avg = 0\n",
        "\n",
        "dir='/content/new_data/train/Unsigned'\n",
        "temp = os.listdir(dir)\n",
        "for i in os.listdir(\"/content/new_data/train/Unsigned\"):\n",
        "  img  = cv2.imread(os.path.join(\"/content/new_data/train/Unsigned\",i))\n",
        "  res = img.astype(np.uint8)\n",
        "\n",
        "\n",
        "  percent = (np.count_nonzero(res)*100)/res.size\n",
        "  avg = avg+percent\n",
        "tot_avg = avg/len(temp)\n",
        "print(tot_avg)"
      ],
      "metadata": {
        "colab": {
          "base_uri": "https://localhost:8080/"
        },
        "id": "UAb0lKO98TUD",
        "outputId": "aa243051-04ea-4455-aded-867c4e424dce"
      },
      "execution_count": null,
      "outputs": [
        {
          "output_type": "stream",
          "name": "stdout",
          "text": [
            "49.53740820015236\n"
          ]
        }
      ]
    }
  ]
}